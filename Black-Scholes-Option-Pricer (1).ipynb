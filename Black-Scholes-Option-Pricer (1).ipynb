{
 "cells": [
  {
   "cell_type": "code",
   "execution_count": null,
   "id": "291b0a7f-e335-40c0-8b82-b73d3fa3c329",
   "metadata": {},
   "outputs": [],
   "source": [
    "import math\n",
    "\n",
    "def black_scholes_option_pricer(S, K, T, sigma, r, option_type='call'):\n",
    "    \"\"\"\n",
    "    Calculate the option price using the Black-Scholes formula.\n",
    "    \n",
    "    Args:\n",
    "        S (float): Current underlying price.\n",
    "        K (float): Strike price.\n",
    "        T (float): Time to expiration in years.\n",
    "        sigma (float): Volatility of the underlying asset's returns.\n",
    "        r (float): Risk-free interest rate.\n",
    "        option_type (str): Type of option ('call' or 'put'). Default is 'call'.\n",
    "        \n",
    "    Returns:\n",
    "        float: Option price.\n",
    "    \"\"\"\n",
    "    d1 = (math.log(S / K) + (r + 0.5 * sigma**2) * T) / (sigma * math.sqrt(T))\n",
    "    d2 = d1 - sigma * math.sqrt(T)\n",
    "\n",
    "    if option_type == 'call':\n",
    "        option_price = S * norm_cdf(d1) - K * math.exp(-r * T) * norm_cdf(d2)\n",
    "    elif option_type == 'put':\n",
    "        option_price = K * math.exp(-r * T) * norm_cdf(-d2) - S * norm_cdf(-d1)\n",
    "    else:\n",
    "        raise ValueError(\"Invalid option type. Use 'call' or 'put'.\")\n",
    "\n",
    "    return option_price\n",
    "\n",
    "def norm_cdf(x):\n",
    "    \"\"\"\n",
    "    Calculate the cumulative distribution function (CDF) of the standard normal distribution.\n",
    "    \n",
    "    Args:\n",
    "        x (float): Input value.\n",
    "        \n",
    "    Returns:\n",
    "        float: CDF value.\n",
    "    \"\"\"\n",
    "    return (1.0 + math.erf(x / math.sqrt(2.0))) / 2.0\n",
    "\n",
    "if __name__ == \"__main__\":\n",
    "    # Get input from the user\n",
    "    S = float(input(\"Enter the current underlying price: \"))\n",
    "    K = float(input(\"Enter the strike price: \"))\n",
    "    T = float(input(\"Enter the time to expiration (in years): \"))\n",
    "    sigma = float(input(\"Enter the volatility (as a decimal): \"))\n",
    "    r = float(input(\"Enter the risk-free interest rate (as a decimal): \"))\n",
    "\n",
    "    # Get the option type (call or put)\n",
    "    option_type = input(\"Enter the option type (call/put): \").lower()\n",
    "\n",
    "    # Calculate and print the option price\n",
    "    option_price = black_scholes_option_pricer(S, K, T, sigma, r, option_type)\n",
    "    print(f\"The option price is: {option_price:.2f}\")"
   ]
  }
 ],
 "metadata": {
  "kernelspec": {
   "display_name": "Python 3 (ipykernel)",
   "language": "python",
   "name": "python3"
  },
  "language_info": {
   "codemirror_mode": {
    "name": "ipython",
    "version": 3
   },
   "file_extension": ".py",
   "mimetype": "text/x-python",
   "name": "python",
   "nbconvert_exporter": "python",
   "pygments_lexer": "ipython3",
   "version": "3.11.4"
  }
 },
 "nbformat": 4,
 "nbformat_minor": 5
}
